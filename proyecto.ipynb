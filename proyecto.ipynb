{
 "cells": [
  {
   "cell_type": "markdown",
   "metadata": {},
   "source": [
    "<br>\n",
    "<br>"
   ]
  },
  {
   "cell_type": "markdown",
   "metadata": {},
   "source": [
    "### Proyecto: Análisis de emociones"
   ]
  },
  {
   "cell_type": "markdown",
   "metadata": {},
   "source": [
    "##### ![1) Definición del objetivo:](https://github.com/chetincho/ds_Prediccion_de_enfermedades/blob/main/img/Definici%C3%B3n%20del%20objetivo.jpg?raw=true)"
   ]
  },
  {
   "cell_type": "markdown",
   "metadata": {},
   "source": [
    ".. xx ..<br><br>\n",
    "Se busca obtener un modelo computacional que permita la predicción de enfermedades, dicho modelo se convertirá en un soporte para la toma de decisiones médicas cuya aplicación estará enfocada principalmente en estudiantes de medicina recién graduados que estén atravesando por su primer año de residencia."
   ]
  },
  {
   "cell_type": "markdown",
   "metadata": {},
   "source": [
    "##### ![2) Contexto comercial:](https://github.com/chetincho/ds_Prediccion_de_enfermedades/blob/main/img/Contexto%20comercial.jpg?raw=true)"
   ]
  },
  {
   "cell_type": "markdown",
   "metadata": {},
   "source": [
    ".. xx ..<br><br>\n",
    "El resultado final del proyecto tiene por objetivo:<br>\n",
    "1- Minimizar inconvenientes legales causados por negligencias médicas proveniente de la inexperiencia de los recién graduados.<br>\n",
    "2- Proveer a los internos de un soporte a sus inferencias médicas ante una emergencia o la ausencia de un titular.<br>"
   ]
  },
  {
   "cell_type": "markdown",
   "metadata": {},
   "source": [
    "##### ![3) Problema comercial:](https://github.com/chetincho/ds_Prediccion_de_enfermedades/blob/main/img/Problema%20comercial.jpg?raw=true)"
   ]
  },
  {
   "cell_type": "markdown",
   "metadata": {},
   "source": [
    ".. xx ..<br><br>\n",
    "¿Es posible desarrollar un modelo que, en función de ciertos inputs, nos permita predecir una enfermedad?"
   ]
  },
  {
   "cell_type": "markdown",
   "metadata": {},
   "source": [
    "##### ![Librerías utilizadas:](https://github.com/chetincho/ds_Prediccion_de_enfermedades/blob/main/img/Librerias%20utilizadas.jpg?raw=true)"
   ]
  },
  {
   "cell_type": "code",
   "execution_count": 23,
   "metadata": {},
   "outputs": [],
   "source": [
    "import pandas as pd\n"
   ]
  },
  {
   "cell_type": "markdown",
   "metadata": {},
   "source": [
    "##### ![4) Data Acquisition:](https://github.com/chetincho/ds_Prediccion_de_enfermedades/blob/main/img/Data%20Acquisition.jpg?raw=true)"
   ]
  },
  {
   "cell_type": "markdown",
   "metadata": {},
   "source": [
    ".. xx ..<br><br>\n",
    "El dataset utilizado es el resultado de la recopilación de datos provenientes de las historias clínicas de pacientes que ya fueron diagnosticados por esta institución y cuyos casos fueron analizados por la junta médica de este hospital."
   ]
  },
  {
   "cell_type": "code",
   "execution_count": 24,
   "metadata": {},
   "outputs": [],
   "source": [
    "# Origen de los datos\n",
    "url_dataset=\"https://raw.githubusercontent.com/chetincho/Analisis_de_Sentimientos/refs/heads/main/dataset/dataset.txt\"\n",
    "\n",
    "# Carga del dataframe\n",
    "df = pd.read_csv(url_dataset, sep='|')\n",
    "\n",
    "# Seteamos el índice del dataframe para que comience en 1\n",
    "df.set_index(pd.Index(range(1, len(df) + 1)), inplace=True)\n",
    "\n",
    "# Seteamos pandas para mostrar todas las columnas\n",
    "pd.set_option('display.max_columns', None)"
   ]
  },
  {
   "cell_type": "markdown",
   "metadata": {},
   "source": [
    "##### ![5) Exploratory Data Analysis (EDA):](https://github.com/chetincho/ds_Prediccion_de_enfermedades/blob/main/img/Exploratory%20Data%20Analysis.jpg?raw=true)"
   ]
  },
  {
   "cell_type": "markdown",
   "metadata": {},
   "source": [
    "🗒️ ¿Cuál es la cantidad de filas y columnas que componen el dataframe?"
   ]
  },
  {
   "cell_type": "code",
   "execution_count": 25,
   "metadata": {},
   "outputs": [
    {
     "name": "stdout",
     "output_type": "stream",
     "text": [
      "✅ Total de Filas = 3316\n",
      "✅ Total de Columnas = 19\n"
     ]
    }
   ],
   "source": [
    "filas, columnas = df.shape\n",
    "print(f\"✅ Total de Filas = {filas}\")\n",
    "print(f\"✅ Total de Columnas = {columnas}\")"
   ]
  },
  {
   "cell_type": "markdown",
   "metadata": {},
   "source": [
    "🗒️ ¿Cuáles son las columnas o atributos que lo componen?"
   ]
  },
  {
   "cell_type": "code",
   "execution_count": null,
   "metadata": {},
   "outputs": [],
   "source": [
    "# Utilizo el método .tolist() para convertir las columnas en una lista\n",
    "print(f\"Este dataframe está compuesto por las siguientes columnas:\")\n",
    "columnas = df.columns.tolist()\n",
    "for columna in columnas:\n",
    "    print(f\"🧬 {columna}\")"
   ]
  },
  {
   "cell_type": "markdown",
   "metadata": {},
   "source": [
    "🗒️ ¿Hay valores nulos?"
   ]
  },
  {
   "cell_type": "code",
   "execution_count": null,
   "metadata": {},
   "outputs": [],
   "source": [
    "print(f\"✅ Total de valores nulos detectados: {sum(df.isnull().sum())} valores\")"
   ]
  },
  {
   "cell_type": "markdown",
   "metadata": {},
   "source": [
    "⚠️ Atención: El origen de los valores nulos corresponden a la columna llamada \"Unnamed\", se procede a su eliminación."
   ]
  },
  {
   "cell_type": "code",
   "execution_count": null,
   "metadata": {},
   "outputs": [],
   "source": [
    "df = df.drop('Unnamed: 133', axis=1)"
   ]
  },
  {
   "cell_type": "markdown",
   "metadata": {},
   "source": [
    "🗒️ ¿Cuáles son los tipos de dato de cada columna?"
   ]
  },
  {
   "cell_type": "code",
   "execution_count": null,
   "metadata": {},
   "outputs": [],
   "source": [
    "print(f\"Tipo de Dato por Columna:\")\n",
    "for columna, tipo in df.dtypes.items():\n",
    "    print(f\"🔍 {columna}: {tipo}\")"
   ]
  },
  {
   "cell_type": "code",
   "execution_count": null,
   "metadata": {},
   "outputs": [],
   "source": [
    "print(f\"✅ Resumen de los tipos de datos que componen el dataframe:\")\n",
    "resumen_tipos_datos = df.dtypes.value_counts()\n",
    "print(resumen_tipos_datos)"
   ]
  },
  {
   "cell_type": "markdown",
   "metadata": {},
   "source": [
    "🗒️ Veamos una pequeña muestra del dataframe, exploramos las primeras y últimas filas."
   ]
  },
  {
   "cell_type": "code",
   "execution_count": null,
   "metadata": {},
   "outputs": [],
   "source": [
    "print(\"Esta es una muestra de los datos contenidos en el dataframe:\")\n",
    "print(\"🗂️ PRIMEROS 10 REGISTROS\")\n",
    "print(\"=========================\")\n",
    "df.head(10)"
   ]
  },
  {
   "cell_type": "code",
   "execution_count": null,
   "metadata": {},
   "outputs": [],
   "source": [
    "print(\"🗂️ ÚLTIMOS 10 REGISTROS\")\n",
    "print(\"========================\")\n",
    "df.tail(10)"
   ]
  },
  {
   "cell_type": "markdown",
   "metadata": {},
   "source": [
    "💡 Si el contenido de la celda es igual a 1 ➡️ el síntoma formo parte del diagnóstico.<br>\n",
    "💡 Si el contenido de la celda es igual a 0 ➡️ el síntoma NO formo parte del diagnóstico.<br>"
   ]
  },
  {
   "cell_type": "markdown",
   "metadata": {},
   "source": [
    "🗒️ ¿Cuántas historias clínicas fueron relevadas por cada tipo de enfermedad diagnosticada?"
   ]
  },
  {
   "cell_type": "code",
   "execution_count": null,
   "metadata": {},
   "outputs": [],
   "source": [
    "frecuencia_valores = df['prognosis'].value_counts()\n",
    "print(f\"\\n✅ Frecuencia de valores en la columna: {'prognosis'}\")\n",
    "print(\"-------------------------------------------------------\")\n",
    "\n",
    "n=1\n",
    "for enfermedad,frecuencia in frecuencia_valores.items():\n",
    "    print(f\"{n} {enfermedad} -> {frecuencia}\")\n",
    "    n=n+1"
   ]
  },
  {
   "cell_type": "markdown",
   "metadata": {},
   "source": [
    "💡 Se observa que en total el dataset contiene 41 enfermedades posibles de diagnóstico de las cuales se relevaron equitativamente 120 historias clínicas.<br>"
   ]
  },
  {
   "cell_type": "markdown",
   "metadata": {},
   "source": [
    "🗒️ ¿Cuáles son los síntomas que más se repiten?"
   ]
  },
  {
   "cell_type": "code",
   "execution_count": null,
   "metadata": {},
   "outputs": [],
   "source": [
    "# Identificamos las columnas pertenecientes a los síntomas\n",
    "columnas_binarias = df.columns[:-1]  # Filtro la última columna, la cual corresponde al síntoma\n",
    "\n",
    "# Calculamos la frecuencia del valor 1 (SI) para cada síntoma\n",
    "frecuencia_unos = df[columnas_binarias].sum()\n",
    "\n",
    "# Calculamos el número total de filas (para obtener la proporción)\n",
    "total_filas = len(df)\n",
    "\n",
    "# Calculamos el porcentaje de 1s (SI)\n",
    "porcentaje_unos = (frecuencia_unos / total_filas) * 100\n",
    "\n",
    "\n",
    "print(\"✅ Total de veces que el síntoma forma parte del dignóstico\")\n",
    "print(\"\")\n",
    "\n",
    "for columna, frecuencia in frecuencia_unos.items():\n",
    "    porcentaje = porcentaje_unos[columna]\n",
    "    print(f\"El {porcentaje:.2f}% de las veces el síntoma << {columna} >> formo parte del diagnóstico\")\n"
   ]
  },
  {
   "cell_type": "markdown",
   "metadata": {},
   "source": [
    "💡 Hay 7 síntomas con alto grado de participación en los diagnósticos:<br>\n",
    "- fatigue esta presente en el 39,27% de los diagnósticos.<br>\n",
    "- vomiting esta presente en el 38,90% de los diagnósticos.<br>\n",
    "- high_fever esta presente en el 27,68% de los diagnósticos.<br>\n",
    "- loss_of_appetite esta presente en el 23,41% de los diagnósticos.<br>\n",
    "- nausea esta presente en el 23,29% de los diagnósticos.<br>\n",
    "- headache esta presente en el 23,05% de los diagnósticos.<br>\n",
    "- abdominal_pain esta presente en el 20,98% de los diagnósticos.<br>\n",
    "<br>\n",
    "\n",
    "⚠️ Porcentajes altos de participación de un síntoma provoca que éste no sea determinante en el diagnostico, ej: fatigue y vomiting está presente en casi el 40% de las historias clínicas. Si el profesional de la salud no tiene en cuenta el resto de los síntomas puede cometer errores de diagnóstico."
   ]
  },
  {
   "cell_type": "markdown",
   "metadata": {},
   "source": [
    "🗒️ Matriz de correlación"
   ]
  },
  {
   "cell_type": "code",
   "execution_count": null,
   "metadata": {},
   "outputs": [],
   "source": [
    "# Separo las características (features) de la variable objetivo\n",
    "X = df.drop('prognosis', axis=1)\n",
    "\n",
    "# Calculo la matriz de correlación entre todas las variables\n",
    "matriz_correlacion = X.corr()\n",
    "\n",
    "# Muestro la matriz de correlación con un mapa de calor\n",
    "plt.figure(figsize=(16, 12))  # Tamaño del gráfico\n",
    "sns.heatmap(matriz_correlacion, cmap='coolwarm', linewidths=0.5)\n",
    "plt.title(\"🔍 Matriz de Correlación entre Síntomas\", fontsize=16)\n",
    "plt.tight_layout()\n",
    "plt.show()"
   ]
  },
  {
   "cell_type": "markdown",
   "metadata": {},
   "source": [
    "🗒️ Dado que desde la gráfica se dificulta observar cuáles son las variables con alto índice de correlación se procede a su listado."
   ]
  },
  {
   "cell_type": "code",
   "execution_count": null,
   "metadata": {},
   "outputs": [],
   "source": [
    "# Busco y almaceno todos los pares con correlación > 0.9 (positiva o negativa)\n",
    "valores_correlacionados_altos = []\n",
    "for i in range(len(matriz_correlacion.columns)):\n",
    "    for j in range(i + 1, len(matriz_correlacion.columns)):\n",
    "        valor = matriz_correlacion.iloc[i, j]\n",
    "        if abs(valor) > 0.9:\n",
    "            valores_correlacionados_altos.append((matriz_correlacion.index[i], matriz_correlacion.columns[j], valor))\n",
    "\n",
    "# Ordeno los pares por el valor absoluto de su correlación (de mayor a menor)\n",
    "valores_correlacionados_altos_ordenado = sorted(valores_correlacionados_altos, key=lambda x: abs(x[2]), reverse=True)\n",
    "\n",
    "# Muestro los pares encontrados\n",
    "print(\"🔗 Pares de síntomas con correlación > 0.9:\\n\")\n",
    "for var1, var2, valor in valores_correlacionados_altos_ordenado:\n",
    "    print(f\"{var1} ↔ {var2}: correlación = {valor:.2f}\")"
   ]
  },
  {
   "cell_type": "markdown",
   "metadata": {},
   "source": [
    "Se observa gran cantidad de variables con alta correlación, por el momento, y debido a la cantidad de síntomas no se toman decisiones para reducir dimensionalidad."
   ]
  },
  {
   "cell_type": "markdown",
   "metadata": {},
   "source": [
    "##### ![6) Data Wrangling / Data Munging:](https://github.com/chetincho/ds_Prediccion_de_enfermedades/blob/main/img/Data%20Wrangling%20Munging.jpg?raw=true)"
   ]
  },
  {
   "cell_type": "markdown",
   "metadata": {},
   "source": [
    "🗒️ Codificación de variables categóricas.<br>\n",
    "Se confirma que no hay variables categóricas, además de la variable target."
   ]
  },
  {
   "cell_type": "markdown",
   "metadata": {},
   "source": [
    "🗒️ Normalización o escalado.<br>\n",
    "No es necesario aplicar normalización o escalado. Todas las variables ya están en la misma escala (0 o 1). Todas las variables (síntomas) son binarias, es decir, solo toman valores 0 o 1.<br>"
   ]
  },
  {
   "cell_type": "markdown",
   "metadata": {},
   "source": [
    "🗒️ Codificamos columna objetivo (prognosis) usando LabelEncoder. Esto lo hacemos para que el modelo pueda procesar dicha columna.<br>\n",
    "Este método convierte cada clase en un número entero único.<br>\n",
    "<br>\n",
    "Se crea una nueva columna prognosis_encoded que contiene valores numéricos. Cada número representa una enfermedad distinta.<br>"
   ]
  },
  {
   "cell_type": "code",
   "execution_count": null,
   "metadata": {},
   "outputs": [],
   "source": [
    "# Creamos una instancia del codificador\n",
    "label_encoder = LabelEncoder()\n",
    "\n",
    "# Aplicamos el codificador sobre la columna \"prognosis\"\n",
    "df['prognosis_encoded'] = label_encoder.fit_transform(df['prognosis'])\n",
    "\n",
    "# Mostramos la codificación\n",
    "print(\"🔍 Mapeo de enfermedades (prognosis):\")\n",
    "for i, class_label in enumerate(label_encoder.classes_):\n",
    "    print(f\"{i} → {class_label}\")"
   ]
  },
  {
   "cell_type": "code",
   "execution_count": null,
   "metadata": {},
   "outputs": [],
   "source": [
    "df.head(30)"
   ]
  },
  {
   "cell_type": "markdown",
   "metadata": {},
   "source": [
    "##### ![Primeras conclusiones:](https://github.com/chetincho/ds_Prediccion_de_enfermedades/blob/main/img/Primeras%20conclusiones.jpg?raw=true)"
   ]
  },
  {
   "cell_type": "markdown",
   "metadata": {},
   "source": [
    "- Todo indica que se trata de un problema de clasificación multiclase con 41 enfermedades como clases posibles. <br>\n",
    "- Nuestra variable objetivo será \"prognosis\". <br>\n",
    "- Se confirma que no hay columnas categóricas (además de la target). <br>"
   ]
  },
  {
   "cell_type": "markdown",
   "metadata": {},
   "source": [
    "##### ![Selección y entrenamiento del modelo:](https://github.com/chetincho/ds_Prediccion_de_enfermedades/blob/main/img/Selecci%C3%B3n%20y%20entrenamiento%20del%20modelo%20fundamentos.jpg?raw=true)"
   ]
  },
  {
   "cell_type": "markdown",
   "metadata": {},
   "source": [
    "Procedemos a separar en X (features) e Y (target):<br>\n",
    "- X: todas las columnas de síntomas (features)<br>\n",
    "- y: la columna codificada prognosis_encoded (target)<br>"
   ]
  },
  {
   "cell_type": "code",
   "execution_count": null,
   "metadata": {},
   "outputs": [],
   "source": [
    "# -----------------------------------------------\n",
    "# 🎯 SEPARACIÓN DE FEATURES (X) Y TARGET (y)\n",
    "# -----------------------------------------------\n",
    "\n",
    "# Paso 1: Definir las variables independientes (X)\n",
    "# Excluimos la columna objetivo codificada y cualquier otra que no queramos usar como feature\n",
    "X = df.drop(columns=['prognosis', 'prognosis_encoded'])  # usamos solo los síntomas\n",
    "\n",
    "# Paso 2: Definir la variable dependiente (y)\n",
    "# Usamos la versión codificada de la columna objetivo\n",
    "y = df['prognosis_encoded']\n",
    "\n",
    "# Paso 3: Verificar dimensiones\n",
    "print(f\"📐 Dimensión de X (features): {X.shape}\")\n",
    "print(f\"🎯 Dimensión de y (target): {y.shape}\")\n",
    "\n",
    "# X: contiene todos los síntomas (sin la columna de diagnóstico).\n",
    "# y: contiene el diagnóstico codificado numéricamente (prognosis_encoded).\n",
    "# Imprime las dimensiones de ambos para confirmar que todo está en orden."
   ]
  },
  {
   "cell_type": "markdown",
   "metadata": {},
   "source": [
    "Luego, procedemos a dividir el dataset en #conjunto_de_entrenamiento y #conjunto_de_pruebas.<br>"
   ]
  },
  {
   "cell_type": "code",
   "execution_count": null,
   "metadata": {},
   "outputs": [],
   "source": [
    "# Paso 2: Dividir los datos en entrenamiento y prueba\n",
    "# Usamos 80% para entrenamiento y 20% para prueba\n",
    "X_train, X_test, y_train, y_test = train_test_split(\n",
    "    X, y,                  # Features y target\n",
    "    test_size=0.2,         # 20% para test\n",
    "    random_state=42,       # Semilla para reproducibilidad\n",
    "    stratify=y             # Mantiene la proporción de clases en y\n",
    ")\n",
    "\n",
    "# Paso 3: Mostrar el tamaño de cada subconjunto\n",
    "print(f\"🔧 X_train: {X_train.shape}\")\n",
    "print(f\"🧪 X_test:  {X_test.shape}\")\n",
    "print(f\"🎯 y_train: {y_train.shape}\")\n",
    "print(f\"🎯 y_test:  {y_test.shape}\")"
   ]
  },
  {
   "cell_type": "markdown",
   "metadata": {},
   "source": [
    "Procedemos a evaluar distintos Modelos de Machine Learning <br>"
   ]
  },
  {
   "cell_type": "markdown",
   "metadata": {},
   "source": [
    "Comentarios: Tipo de problema de Clasificación multiclase (porque queremos predecir una entre varias clases posibles). Esto implica que vamos a construir modelos de clasificación que puedan identificar a cuál de esas 41 enfermedades pertenece cada muestra, en base a los síntomas.<br>"
   ]
  },
  {
   "cell_type": "markdown",
   "metadata": {},
   "source": [
    "🤖 1. Random Forest Classifier<br>"
   ]
  },
  {
   "cell_type": "code",
   "execution_count": null,
   "metadata": {},
   "outputs": [],
   "source": [
    "# -----------------------------------------------\n",
    "# 🌲 RANDOM FOREST CLASSIFIER\n",
    "# -----------------------------------------------\n",
    "\n",
    "# Paso 1:Creamos una instancia del modelo\n",
    "# - n_estimators: número de árboles en el bosque\n",
    "# - random_state: semilla para reproducibilidad\n",
    "rf_model = RandomForestClassifier(n_estimators=100, random_state=20)\n",
    "\n",
    "# Paso 2: Entrenamos el modelo con los datos de entrenamiento\n",
    "rf_model.fit(X_train, y_train)\n",
    "\n",
    "# Paso 3: Hacemos predicciones sobre el conjunto de prueba\n",
    "rf_preds = rf_model.predict(X_test)\n",
    "\n",
    "# Paso 4: Evaluamos el rendimiento del modelo\n",
    "from sklearn.metrics import accuracy_score, classification_report, confusion_matrix\n",
    "\n",
    "print(\"🎯 [Random Forest] Accuracy:\", accuracy_score(y_test, rf_preds))\n",
    "print(\"📋 [Random Forest] Classification Report:\")\n",
    "print(classification_report(y_test, rf_preds, target_names=label_encoder.classes_))"
   ]
  },
  {
   "cell_type": "markdown",
   "metadata": {},
   "source": [
    "🗒️ Conclusión Random Forest Classifier:\n",
    "- Habiendo logrado una accuracy de 1.0 (o 100%) esto nos indica que el modelo predijo correctamente TODAS las muestras del conjunto de prueba.\n",
    "- El modelo clasificó correctamente todas las enfermedades del test.\n",
    "- No hubo falsos positivos ni falsos negativos.\n",
    "- Todas las clases tienen el mismo número de muestras (24)"
   ]
  },
  {
   "cell_type": "markdown",
   "metadata": {},
   "source": [
    "🤖 2. K-Nearest Neighbors (KNN)<br>"
   ]
  },
  {
   "cell_type": "code",
   "execution_count": null,
   "metadata": {},
   "outputs": [],
   "source": [
    "# -----------------------------------------------\n",
    "# 👥 K-NEAREST NEIGHBORS (KNN)\n",
    "# -----------------------------------------------\n",
    "\n",
    "# Paso 1: Importamos el modelo desde sklearn\n",
    "from sklearn.neighbors import KNeighborsClassifier\n",
    "\n",
    "# Paso 2: Crear una instancia del modelo\n",
    "# n_neighbors: número de vecinos a considerar\n",
    "knn_model = KNeighborsClassifier(n_neighbors=5)\n",
    "\n",
    "# Paso 3: Entrenamos el modelo con los datos de entrenamiento\n",
    "knn_model.fit(X_train, y_train)\n",
    "\n",
    "# Paso 4: Hacemos las predicciones sobre el conjunto de prueba\n",
    "knn_preds = knn_model.predict(X_test)\n",
    "\n",
    "# Paso 5: Evaluamos el rendimiento del modelo\n",
    "print(\"🎯 [KNN] Accuracy:\", accuracy_score(y_test, knn_preds))\n",
    "print(\"📋 [KNN] Classification Report:\")\n",
    "print(classification_report(y_test, knn_preds, target_names=label_encoder.classes_))"
   ]
  },
  {
   "cell_type": "markdown",
   "metadata": {},
   "source": [
    "🗒️ Conclusión K-Nearest Neighbors (KNN):\n",
    "- Al igual que con el modelo Random Forest Classifier se alcanza una accuracy de 1.0 (o 100%)"
   ]
  },
  {
   "cell_type": "markdown",
   "metadata": {},
   "source": [
    "🤖 3. Support Vector Machine (SVM)<br>"
   ]
  },
  {
   "cell_type": "code",
   "execution_count": null,
   "metadata": {},
   "outputs": [],
   "source": [
    "# -----------------------------------------------\n",
    "# 💠 SUPPORT VECTOR MACHINE (SVM)\n",
    "# -----------------------------------------------\n",
    "\n",
    "# Paso 1: Importamos el modelo desde sklearn\n",
    "from sklearn.svm import SVC\n",
    "\n",
    "# Paso 2: Creamos una instancia del modelo\n",
    "# kernel='linear': usaremos un kernel lineal para clasificación\n",
    "svm_model = SVC(kernel='linear', probability=True)\n",
    "\n",
    "# Paso 3: Entrenamos el modelo con los datos de entrenamiento\n",
    "svm_model.fit(X_train, y_train)\n",
    "\n",
    "# Paso 4: Hacemos predicciones sobre el conjunto de prueba\n",
    "svm_preds = svm_model.predict(X_test)\n",
    "\n",
    "# Paso 5: Evaluamos el rendimiento del modelo\n",
    "print(\"🎯 [SVM] Accuracy:\", accuracy_score(y_test, svm_preds))\n",
    "print(\"📋 [SVM] Classification Report:\")\n",
    "print(classification_report(y_test, svm_preds, target_names=label_encoder.classes_))"
   ]
  },
  {
   "cell_type": "markdown",
   "metadata": {},
   "source": [
    "##### ![Conclusiones finales:](https://github.com/chetincho/ds_Prediccion_de_enfermedades/blob/main/img/Conclusiones%20finales.jpg?raw=true)"
   ]
  },
  {
   "cell_type": "markdown",
   "metadata": {},
   "source": [
    "Los 3 modelos mostraron un 100% de precisión, lo cual indica que el problema está muy bien definido y probablemente los síntomas determinan claramente la enfermedad.<br>\n",
    "- Cada combinación de síntomas apunta a un diagnóstico único.<br>\n",
    "- No hay ambigüedad o ruido en los datos.<br>\n"
   ]
  },
  {
   "cell_type": "markdown",
   "metadata": {},
   "source": [
    "🧠 Interpretación<br>\n",
    "Los tres modelos clasificaron correctamente todos los casos del set de prueba.<br>\n",
    "Esto indica que el problema es altamente separable y que los síntomas determinan muy bien el diagnóstico.<br>\n",
    "Es posible que el dataset tenga patrones muy claros o incluso síntomas únicos por enfermedad.<br>"
   ]
  },
  {
   "cell_type": "markdown",
   "metadata": {},
   "source": [
    "<br>\n",
    "<br>\n",
    "<br>\n",
    "<br>\n",
    "<br>\n",
    "<br>"
   ]
  },
  {
   "cell_type": "markdown",
   "metadata": {},
   "source": []
  }
 ],
 "metadata": {
  "kernelspec": {
   "display_name": "Python 3",
   "language": "python",
   "name": "python3"
  },
  "language_info": {
   "codemirror_mode": {
    "name": "ipython",
    "version": 3
   },
   "file_extension": ".py",
   "mimetype": "text/x-python",
   "name": "python",
   "nbconvert_exporter": "python",
   "pygments_lexer": "ipython3",
   "version": "3.11.5"
  }
 },
 "nbformat": 4,
 "nbformat_minor": 2
}
