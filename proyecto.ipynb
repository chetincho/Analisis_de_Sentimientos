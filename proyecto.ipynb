{
 "cells": [
  {
   "cell_type": "markdown",
   "metadata": {},
   "source": [
    "<br>\n",
    "<br>"
   ]
  },
  {
   "cell_type": "markdown",
   "metadata": {},
   "source": [
    "### Proyecto: Análisis de emociones"
   ]
  },
  {
   "cell_type": "markdown",
   "metadata": {},
   "source": [
    "##### ![1) Definición del objetivo:](https://github.com/chetincho/ds_Prediccion_de_enfermedades/blob/main/img/Definici%C3%B3n%20del%20objetivo.jpg?raw=true)"
   ]
  },
  {
   "cell_type": "markdown",
   "metadata": {},
   "source": [
    ".. xx ..<br><br>\n",
    "Se busca obtener un modelo computacional que permita la predicción de enfermedades, dicho modelo se convertirá en un soporte para la toma de decisiones médicas cuya aplicación estará enfocada principalmente en estudiantes de medicina recién graduados que estén atravesando por su primer año de residencia."
   ]
  },
  {
   "cell_type": "markdown",
   "metadata": {},
   "source": [
    "##### ![2) Contexto comercial:](https://github.com/chetincho/ds_Prediccion_de_enfermedades/blob/main/img/Contexto%20comercial.jpg?raw=true)"
   ]
  },
  {
   "cell_type": "markdown",
   "metadata": {},
   "source": [
    ".. xx ..<br><br>\n",
    "El resultado final del proyecto tiene por objetivo:<br>\n",
    "1- Minimizar inconvenientes legales causados por negligencias médicas proveniente de la inexperiencia de los recién graduados.<br>\n",
    "2- Proveer a los internos de un soporte a sus inferencias médicas ante una emergencia o la ausencia de un titular.<br>"
   ]
  },
  {
   "cell_type": "markdown",
   "metadata": {},
   "source": [
    "##### ![3) Problema comercial:](https://github.com/chetincho/ds_Prediccion_de_enfermedades/blob/main/img/Problema%20comercial.jpg?raw=true)"
   ]
  },
  {
   "cell_type": "markdown",
   "metadata": {},
   "source": [
    ".. xx ..<br><br>\n",
    "¿Es posible desarrollar un modelo que, en función de ciertos inputs, nos permita predecir una enfermedad?"
   ]
  },
  {
   "cell_type": "markdown",
   "metadata": {},
   "source": [
    "##### ![Librerías utilizadas:](https://github.com/chetincho/ds_Prediccion_de_enfermedades/blob/main/img/Librerias%20utilizadas.jpg?raw=true)"
   ]
  },
  {
   "cell_type": "code",
   "execution_count": 14,
   "metadata": {},
   "outputs": [],
   "source": [
    "import pandas as pd\n"
   ]
  },
  {
   "cell_type": "markdown",
   "metadata": {},
   "source": [
    "##### ![4) Data Acquisition:](https://github.com/chetincho/ds_Prediccion_de_enfermedades/blob/main/img/Data%20Acquisition.jpg?raw=true)"
   ]
  },
  {
   "cell_type": "markdown",
   "metadata": {},
   "source": [
    ".. xx ..<br><br>\n",
    "El dataset utilizado es el resultado de la recopilación de datos provenientes de las historias clínicas de pacientes que ya fueron diagnosticados por esta institución y cuyos casos fueron analizados por la junta médica de este hospital."
   ]
  },
  {
   "cell_type": "code",
   "execution_count": 15,
   "metadata": {},
   "outputs": [],
   "source": [
    "# Origen de los datos\n",
    "url_dataset=\"https://raw.githubusercontent.com/chetincho/Analisis_de_Sentimientos/refs/heads/main/dataset/dataset.txt\"\n",
    "\n",
    "# Carga del dataframe\n",
    "df = pd.read_csv(url_dataset, sep='|')\n",
    "\n",
    "# Seteamos el índice del dataframe para que comience en 1\n",
    "df.set_index(pd.Index(range(1, len(df) + 1)), inplace=True)\n",
    "\n",
    "# Seteamos pandas para mostrar todas las columnas\n",
    "pd.set_option('display.max_columns', None)"
   ]
  },
  {
   "cell_type": "markdown",
   "metadata": {},
   "source": [
    "##### ![5) Exploratory Data Analysis (EDA):](https://github.com/chetincho/ds_Prediccion_de_enfermedades/blob/main/img/Exploratory%20Data%20Analysis.jpg?raw=true)"
   ]
  },
  {
   "cell_type": "markdown",
   "metadata": {},
   "source": [
    "🗒️ ¿Cuál es la cantidad de filas y columnas que componen el dataframe?"
   ]
  },
  {
   "cell_type": "code",
   "execution_count": 16,
   "metadata": {},
   "outputs": [
    {
     "name": "stdout",
     "output_type": "stream",
     "text": [
      "✅ Total de Filas = 3316\n",
      "✅ Total de Columnas = 19\n"
     ]
    }
   ],
   "source": [
    "filas, columnas = df.shape\n",
    "print(f\"✅ Total de Filas = {filas}\")\n",
    "print(f\"✅ Total de Columnas = {columnas}\")"
   ]
  },
  {
   "cell_type": "markdown",
   "metadata": {},
   "source": [
    "🗒️ ¿Cuáles son las columnas o atributos que lo componen?"
   ]
  },
  {
   "cell_type": "code",
   "execution_count": 17,
   "metadata": {},
   "outputs": [
    {
     "name": "stdout",
     "output_type": "stream",
     "text": [
      "Este dataframe está compuesto por las siguientes columnas:\n",
      "📁 Usuario X\n",
      "📁 ID\n",
      "📁 Text\n",
      "📁 Language\n",
      "📁 Type\n",
      "📁 Author Name\n",
      "📁 Author Username\n",
      "📁 View Count\n",
      "📁 Bookmark Count\n",
      "📁 Favorite Count\n",
      "📁 Retweet Count\n",
      "📁 Reply Count\n",
      "📁 Quote Count\n",
      "📁 Created At\n",
      "📁 Source\n",
      "📁 Hashtags\n",
      "📁 URLs\n",
      "📁 Media Type\n",
      "📁 Media URLs\n"
     ]
    }
   ],
   "source": [
    "# Utilizo el método .tolist() para convertir las columnas en una lista\n",
    "print(f\"Este dataframe está compuesto por las siguientes columnas:\")\n",
    "columnas = df.columns.tolist()\n",
    "for columna in columnas:\n",
    "    print(f\"📁 {columna}\")"
   ]
  },
  {
   "cell_type": "markdown",
   "metadata": {},
   "source": [
    "🗒️ ¿Hay valores nulos?"
   ]
  },
  {
   "cell_type": "code",
   "execution_count": 18,
   "metadata": {},
   "outputs": [
    {
     "name": "stdout",
     "output_type": "stream",
     "text": [
      "ℹ️ Total de valores nulos detectados: 9753 valores\n"
     ]
    }
   ],
   "source": [
    "print(f\"ℹ️ Total de valores nulos detectados: {sum(df.isnull().sum())} valores\")"
   ]
  },
  {
   "cell_type": "markdown",
   "metadata": {},
   "source": [
    "🗒️ ¿Cuáles son los atributos que contienen valores nulos?, ¿alguno de dichos atributos son críticos para el análisis?"
   ]
  },
  {
   "cell_type": "code",
   "execution_count": 24,
   "metadata": {},
   "outputs": [
    {
     "name": "stdout",
     "output_type": "stream",
     "text": [
      "ℹ️ Valores nulos por columna:\n",
      "Usuario X             0\n",
      "ID                    0\n",
      "Text                  0\n",
      "Language              0\n",
      "Type                  0\n",
      "Author Name           0\n",
      "Author Username       0\n",
      "View Count            0\n",
      "Bookmark Count        0\n",
      "Favorite Count        0\n",
      "Retweet Count         0\n",
      "Reply Count           0\n",
      "Quote Count           0\n",
      "Created At            0\n",
      "Source                0\n",
      "Hashtags           3103\n",
      "URLs               2774\n",
      "Media Type         1938\n",
      "Media URLs         1938\n",
      "dtype: int64\n"
     ]
    }
   ],
   "source": [
    "print(\"ℹ️ Valores nulos por columna:\")\n",
    "print(df.isnull().sum())"
   ]
  },
  {
   "cell_type": "markdown",
   "metadata": {},
   "source": [
    "👍 No se detectan atributos claves para el análisis que contengan valores nulos"
   ]
  },
  {
   "cell_type": "markdown",
   "metadata": {},
   "source": [
    "🗒️ ¿Cuáles son los tipos de dato de cada columna?"
   ]
  },
  {
   "cell_type": "code",
   "execution_count": 20,
   "metadata": {},
   "outputs": [
    {
     "name": "stdout",
     "output_type": "stream",
     "text": [
      "Tipo de Dato por Columna:\n",
      "🔍 Usuario X: object\n",
      "🔍 ID: int64\n",
      "🔍 Text: object\n",
      "🔍 Language: object\n",
      "🔍 Type: object\n",
      "🔍 Author Name: object\n",
      "🔍 Author Username: object\n",
      "🔍 View Count: int64\n",
      "🔍 Bookmark Count: int64\n",
      "🔍 Favorite Count: int64\n",
      "🔍 Retweet Count: int64\n",
      "🔍 Reply Count: int64\n",
      "🔍 Quote Count: int64\n",
      "🔍 Created At: object\n",
      "🔍 Source: object\n",
      "🔍 Hashtags: object\n",
      "🔍 URLs: object\n",
      "🔍 Media Type: object\n",
      "🔍 Media URLs: object\n"
     ]
    }
   ],
   "source": [
    "print(f\"Tipo de Dato por Columna:\")\n",
    "for columna, tipo in df.dtypes.items():\n",
    "    print(f\"🔍 {columna}: {tipo}\")"
   ]
  },
  {
   "cell_type": "markdown",
   "metadata": {},
   "source": [
    "⚠️ Se observa que el atributo “Created At” fue almacenado en el dataframe como de tipo “object” cuando en realidad es de tipo datetime. Se procede con la corrección de tipo."
   ]
  },
  {
   "cell_type": "code",
   "execution_count": 25,
   "metadata": {},
   "outputs": [
    {
     "name": "stdout",
     "output_type": "stream",
     "text": [
      "🔍 El nuevo tipo de dato es: datetime64[ns]\n"
     ]
    }
   ],
   "source": [
    "# Realizamos la corrección del tipo de dato para la columna “Created At”\n",
    "df['Created At'] = pd.to_datetime(df['Created At'])\n",
    "\n",
    "# Verificamos el nuevo tipo de dato para la columna “Created At”\n",
    "print(f\"🔍 El nuevo tipo de dato es: {df['Created At'].dtype}\")"
   ]
  },
  {
   "cell_type": "code",
   "execution_count": 26,
   "metadata": {},
   "outputs": [
    {
     "name": "stdout",
     "output_type": "stream",
     "text": [
      "🔍 Resumen de los tipos de datos que componen el dataframe:\n",
      "object            11\n",
      "int64              7\n",
      "datetime64[ns]     1\n",
      "Name: count, dtype: int64\n"
     ]
    }
   ],
   "source": [
    "print(f\"🔍 Resumen de los tipos de datos que componen el dataframe:\")\n",
    "resumen_tipos_datos = df.dtypes.value_counts()\n",
    "print(resumen_tipos_datos)"
   ]
  },
  {
   "cell_type": "markdown",
   "metadata": {},
   "source": [
    "🗒️ Veamos una pequeña muestra del dataframe, exploramos las primeras y últimas filas."
   ]
  },
  {
   "cell_type": "code",
   "execution_count": 27,
   "metadata": {},
   "outputs": [
    {
     "name": "stdout",
     "output_type": "stream",
     "text": [
      "Esta es una muestra de los datos contenidos en el dataframe:\n",
      "🗂️ PRIMEROS 10 REGISTROS\n",
      "=========================\n"
     ]
    },
    {
     "data": {
      "text/html": [
       "<div>\n",
       "<style scoped>\n",
       "    .dataframe tbody tr th:only-of-type {\n",
       "        vertical-align: middle;\n",
       "    }\n",
       "\n",
       "    .dataframe tbody tr th {\n",
       "        vertical-align: top;\n",
       "    }\n",
       "\n",
       "    .dataframe thead th {\n",
       "        text-align: right;\n",
       "    }\n",
       "</style>\n",
       "<table border=\"1\" class=\"dataframe\">\n",
       "  <thead>\n",
       "    <tr style=\"text-align: right;\">\n",
       "      <th></th>\n",
       "      <th>Usuario X</th>\n",
       "      <th>ID</th>\n",
       "      <th>Text</th>\n",
       "      <th>Language</th>\n",
       "      <th>Type</th>\n",
       "      <th>Author Name</th>\n",
       "      <th>Author Username</th>\n",
       "      <th>View Count</th>\n",
       "      <th>Bookmark Count</th>\n",
       "      <th>Favorite Count</th>\n",
       "      <th>Retweet Count</th>\n",
       "      <th>Reply Count</th>\n",
       "      <th>Quote Count</th>\n",
       "      <th>Created At</th>\n",
       "      <th>Source</th>\n",
       "      <th>Hashtags</th>\n",
       "      <th>URLs</th>\n",
       "      <th>Media Type</th>\n",
       "      <th>Media URLs</th>\n",
       "    </tr>\n",
       "  </thead>\n",
       "  <tbody>\n",
       "    <tr>\n",
       "      <th>1</th>\n",
       "      <td>JMilei</td>\n",
       "      <td>1888684208325075281</td>\n",
       "      <td>VIVA LA LIBERTAD CARAJO https://t.co/7As233e2PO</td>\n",
       "      <td>es</td>\n",
       "      <td>Tweet</td>\n",
       "      <td>Javier Milei</td>\n",
       "      <td>JMilei</td>\n",
       "      <td>47514</td>\n",
       "      <td>2</td>\n",
       "      <td>623</td>\n",
       "      <td>94</td>\n",
       "      <td>189</td>\n",
       "      <td>3</td>\n",
       "      <td>2025-02-09 17:19:39</td>\n",
       "      <td>Twitter for Android</td>\n",
       "      <td>NaN</td>\n",
       "      <td>https://www.instagram.com/reel/DF3X1fDJBBZ/?ig...</td>\n",
       "      <td>NaN</td>\n",
       "      <td>NaN</td>\n",
       "    </tr>\n",
       "    <tr>\n",
       "      <th>2</th>\n",
       "      <td>JMilei</td>\n",
       "      <td>1888636220445511716</td>\n",
       "      <td>TREMENDA MASTERCLAS del PROFE @jlespert al bru...</td>\n",
       "      <td>es</td>\n",
       "      <td>Tweet</td>\n",
       "      <td>Javier Milei</td>\n",
       "      <td>JMilei</td>\n",
       "      <td>1648346</td>\n",
       "      <td>297</td>\n",
       "      <td>17418</td>\n",
       "      <td>2500</td>\n",
       "      <td>1278</td>\n",
       "      <td>193</td>\n",
       "      <td>2025-02-09 14:08:58</td>\n",
       "      <td>Twitter for Android</td>\n",
       "      <td>NaN</td>\n",
       "      <td>NaN</td>\n",
       "      <td>NaN</td>\n",
       "      <td>NaN</td>\n",
       "    </tr>\n",
       "    <tr>\n",
       "      <th>3</th>\n",
       "      <td>JMilei</td>\n",
       "      <td>1888632601813885362</td>\n",
       "      <td>Creí que a mis 63 años ya lo había visto todo ...</td>\n",
       "      <td>es</td>\n",
       "      <td>Quoted</td>\n",
       "      <td>José Luis Espert</td>\n",
       "      <td>jlespert</td>\n",
       "      <td>1217423</td>\n",
       "      <td>451</td>\n",
       "      <td>13667</td>\n",
       "      <td>2269</td>\n",
       "      <td>847</td>\n",
       "      <td>137</td>\n",
       "      <td>2025-02-09 13:54:36</td>\n",
       "      <td>Twitter Web App</td>\n",
       "      <td>NaN</td>\n",
       "      <td>NaN</td>\n",
       "      <td>NaN</td>\n",
       "      <td>NaN</td>\n",
       "    </tr>\n",
       "    <tr>\n",
       "      <th>4</th>\n",
       "      <td>JMilei</td>\n",
       "      <td>1888440655422136478</td>\n",
       "      <td>NO APTO PARA SOCIALISTAS</td>\n",
       "      <td>es</td>\n",
       "      <td>Tweet</td>\n",
       "      <td>Javier Milei</td>\n",
       "      <td>JMilei</td>\n",
       "      <td>632983</td>\n",
       "      <td>1291</td>\n",
       "      <td>18885</td>\n",
       "      <td>4333</td>\n",
       "      <td>1142</td>\n",
       "      <td>139</td>\n",
       "      <td>2025-02-09 01:11:52</td>\n",
       "      <td>Twitter for Android</td>\n",
       "      <td>NaN</td>\n",
       "      <td>NaN</td>\n",
       "      <td>NaN</td>\n",
       "      <td>NaN</td>\n",
       "    </tr>\n",
       "    <tr>\n",
       "      <th>5</th>\n",
       "      <td>JMilei</td>\n",
       "      <td>1888340973530554371</td>\n",
       "      <td>¿Por qué el libertarismo no tiene nada que ver...</td>\n",
       "      <td>es</td>\n",
       "      <td>Quoted</td>\n",
       "      <td>Fundación Faro Argentina</td>\n",
       "      <td>fundfaro</td>\n",
       "      <td>951653</td>\n",
       "      <td>1568</td>\n",
       "      <td>8537</td>\n",
       "      <td>3154</td>\n",
       "      <td>383</td>\n",
       "      <td>233</td>\n",
       "      <td>2025-02-08 18:35:46</td>\n",
       "      <td>Twitter Web App</td>\n",
       "      <td>NaN</td>\n",
       "      <td>NaN</td>\n",
       "      <td>video</td>\n",
       "      <td>https://video.twimg.com/amplify_video/18883361...</td>\n",
       "    </tr>\n",
       "    <tr>\n",
       "      <th>6</th>\n",
       "      <td>JMilei</td>\n",
       "      <td>1888428020718862373</td>\n",
       "      <td>FENÓMENO BARRIAL</td>\n",
       "      <td>es</td>\n",
       "      <td>Tweet</td>\n",
       "      <td>Javier Milei</td>\n",
       "      <td>JMilei</td>\n",
       "      <td>406762</td>\n",
       "      <td>167</td>\n",
       "      <td>13241</td>\n",
       "      <td>1835</td>\n",
       "      <td>535</td>\n",
       "      <td>50</td>\n",
       "      <td>2025-02-09 00:21:40</td>\n",
       "      <td>Twitter for Android</td>\n",
       "      <td>NaN</td>\n",
       "      <td>NaN</td>\n",
       "      <td>NaN</td>\n",
       "      <td>NaN</td>\n",
       "    </tr>\n",
       "    <tr>\n",
       "      <th>7</th>\n",
       "      <td>JMilei</td>\n",
       "      <td>1888412358025838681</td>\n",
       "      <td>ELON: I'M A BIG FAN OF MILEI \"He's doing fanta...</td>\n",
       "      <td>en</td>\n",
       "      <td>Quoted</td>\n",
       "      <td>Mario Nawfal</td>\n",
       "      <td>MarioNawfal</td>\n",
       "      <td>987028</td>\n",
       "      <td>188</td>\n",
       "      <td>4671</td>\n",
       "      <td>765</td>\n",
       "      <td>152</td>\n",
       "      <td>63</td>\n",
       "      <td>2025-02-08 23:19:25</td>\n",
       "      <td>Twitter Web App</td>\n",
       "      <td>NaN</td>\n",
       "      <td>NaN</td>\n",
       "      <td>video</td>\n",
       "      <td>https://video.twimg.com/ext_tw_video/188841227...</td>\n",
       "    </tr>\n",
       "    <tr>\n",
       "      <th>8</th>\n",
       "      <td>JMilei</td>\n",
       "      <td>1888389829567598645</td>\n",
       "      <td>VIVA LA LIBERTAD CARAJO https://t.co/nJzjio1dOU</td>\n",
       "      <td>es</td>\n",
       "      <td>Tweet</td>\n",
       "      <td>Javier Milei</td>\n",
       "      <td>JMilei</td>\n",
       "      <td>38314</td>\n",
       "      <td>2</td>\n",
       "      <td>499</td>\n",
       "      <td>70</td>\n",
       "      <td>82</td>\n",
       "      <td>6</td>\n",
       "      <td>2025-02-08 21:49:54</td>\n",
       "      <td>Twitter for Android</td>\n",
       "      <td>NaN</td>\n",
       "      <td>https://www.instagram.com/p/DF1SDIaJdsl/?igsh=...</td>\n",
       "      <td>NaN</td>\n",
       "      <td>NaN</td>\n",
       "    </tr>\n",
       "    <tr>\n",
       "      <th>9</th>\n",
       "      <td>JMilei</td>\n",
       "      <td>1888329760608002243</td>\n",
       "      <td>FENÓMENO BARRIAL</td>\n",
       "      <td>es</td>\n",
       "      <td>Tweet</td>\n",
       "      <td>Javier Milei</td>\n",
       "      <td>JMilei</td>\n",
       "      <td>223230</td>\n",
       "      <td>24</td>\n",
       "      <td>6192</td>\n",
       "      <td>661</td>\n",
       "      <td>435</td>\n",
       "      <td>43</td>\n",
       "      <td>2025-02-08 17:51:13</td>\n",
       "      <td>Twitter for Android</td>\n",
       "      <td>NaN</td>\n",
       "      <td>NaN</td>\n",
       "      <td>NaN</td>\n",
       "      <td>NaN</td>\n",
       "    </tr>\n",
       "    <tr>\n",
       "      <th>10</th>\n",
       "      <td>JMilei</td>\n",
       "      <td>1888320882088518008</td>\n",
       "      <td>Essential for general prosperity</td>\n",
       "      <td>ca</td>\n",
       "      <td>Quoted</td>\n",
       "      <td>Elon Musk</td>\n",
       "      <td>elonmusk</td>\n",
       "      <td>15328834</td>\n",
       "      <td>1640</td>\n",
       "      <td>99078</td>\n",
       "      <td>11470</td>\n",
       "      <td>2045</td>\n",
       "      <td>285</td>\n",
       "      <td>2025-02-08 17:15:56</td>\n",
       "      <td>Twitter for iPhone</td>\n",
       "      <td>NaN</td>\n",
       "      <td>NaN</td>\n",
       "      <td>NaN</td>\n",
       "      <td>NaN</td>\n",
       "    </tr>\n",
       "  </tbody>\n",
       "</table>\n",
       "</div>"
      ],
      "text/plain": [
       "   Usuario X                   ID  \\\n",
       "1     JMilei  1888684208325075281   \n",
       "2     JMilei  1888636220445511716   \n",
       "3     JMilei  1888632601813885362   \n",
       "4     JMilei  1888440655422136478   \n",
       "5     JMilei  1888340973530554371   \n",
       "6     JMilei  1888428020718862373   \n",
       "7     JMilei  1888412358025838681   \n",
       "8     JMilei  1888389829567598645   \n",
       "9     JMilei  1888329760608002243   \n",
       "10    JMilei  1888320882088518008   \n",
       "\n",
       "                                                 Text Language    Type  \\\n",
       "1     VIVA LA LIBERTAD CARAJO https://t.co/7As233e2PO       es   Tweet   \n",
       "2   TREMENDA MASTERCLAS del PROFE @jlespert al bru...       es   Tweet   \n",
       "3   Creí que a mis 63 años ya lo había visto todo ...       es  Quoted   \n",
       "4                            NO APTO PARA SOCIALISTAS       es   Tweet   \n",
       "5   ¿Por qué el libertarismo no tiene nada que ver...       es  Quoted   \n",
       "6                                    FENÓMENO BARRIAL       es   Tweet   \n",
       "7   ELON: I'M A BIG FAN OF MILEI \"He's doing fanta...       en  Quoted   \n",
       "8     VIVA LA LIBERTAD CARAJO https://t.co/nJzjio1dOU       es   Tweet   \n",
       "9                                    FENÓMENO BARRIAL       es   Tweet   \n",
       "10                   Essential for general prosperity       ca  Quoted   \n",
       "\n",
       "                 Author Name Author Username  View Count  Bookmark Count  \\\n",
       "1               Javier Milei          JMilei       47514               2   \n",
       "2               Javier Milei          JMilei     1648346             297   \n",
       "3           José Luis Espert        jlespert     1217423             451   \n",
       "4               Javier Milei          JMilei      632983            1291   \n",
       "5   Fundación Faro Argentina        fundfaro      951653            1568   \n",
       "6               Javier Milei          JMilei      406762             167   \n",
       "7               Mario Nawfal     MarioNawfal      987028             188   \n",
       "8               Javier Milei          JMilei       38314               2   \n",
       "9               Javier Milei          JMilei      223230              24   \n",
       "10                 Elon Musk        elonmusk    15328834            1640   \n",
       "\n",
       "    Favorite Count  Retweet Count  Reply Count  Quote Count  \\\n",
       "1              623             94          189            3   \n",
       "2            17418           2500         1278          193   \n",
       "3            13667           2269          847          137   \n",
       "4            18885           4333         1142          139   \n",
       "5             8537           3154          383          233   \n",
       "6            13241           1835          535           50   \n",
       "7             4671            765          152           63   \n",
       "8              499             70           82            6   \n",
       "9             6192            661          435           43   \n",
       "10           99078          11470         2045          285   \n",
       "\n",
       "            Created At               Source Hashtags  \\\n",
       "1  2025-02-09 17:19:39  Twitter for Android      NaN   \n",
       "2  2025-02-09 14:08:58  Twitter for Android      NaN   \n",
       "3  2025-02-09 13:54:36      Twitter Web App      NaN   \n",
       "4  2025-02-09 01:11:52  Twitter for Android      NaN   \n",
       "5  2025-02-08 18:35:46      Twitter Web App      NaN   \n",
       "6  2025-02-09 00:21:40  Twitter for Android      NaN   \n",
       "7  2025-02-08 23:19:25      Twitter Web App      NaN   \n",
       "8  2025-02-08 21:49:54  Twitter for Android      NaN   \n",
       "9  2025-02-08 17:51:13  Twitter for Android      NaN   \n",
       "10 2025-02-08 17:15:56   Twitter for iPhone      NaN   \n",
       "\n",
       "                                                 URLs Media Type  \\\n",
       "1   https://www.instagram.com/reel/DF3X1fDJBBZ/?ig...        NaN   \n",
       "2                                                 NaN        NaN   \n",
       "3                                                 NaN        NaN   \n",
       "4                                                 NaN        NaN   \n",
       "5                                                 NaN      video   \n",
       "6                                                 NaN        NaN   \n",
       "7                                                 NaN      video   \n",
       "8   https://www.instagram.com/p/DF1SDIaJdsl/?igsh=...        NaN   \n",
       "9                                                 NaN        NaN   \n",
       "10                                                NaN        NaN   \n",
       "\n",
       "                                           Media URLs  \n",
       "1                                                 NaN  \n",
       "2                                                 NaN  \n",
       "3                                                 NaN  \n",
       "4                                                 NaN  \n",
       "5   https://video.twimg.com/amplify_video/18883361...  \n",
       "6                                                 NaN  \n",
       "7   https://video.twimg.com/ext_tw_video/188841227...  \n",
       "8                                                 NaN  \n",
       "9                                                 NaN  \n",
       "10                                                NaN  "
      ]
     },
     "execution_count": 27,
     "metadata": {},
     "output_type": "execute_result"
    }
   ],
   "source": [
    "print(\"Esta es una muestra de los datos contenidos en el dataframe:\")\n",
    "print(\"🗂️ PRIMEROS 10 REGISTROS\")\n",
    "print(\"=========================\")\n",
    "df.head(10)"
   ]
  },
  {
   "cell_type": "code",
   "execution_count": 28,
   "metadata": {},
   "outputs": [
    {
     "name": "stdout",
     "output_type": "stream",
     "text": [
      "🗂️ ÚLTIMOS 10 REGISTROS\n",
      "========================\n"
     ]
    },
    {
     "data": {
      "text/html": [
       "<div>\n",
       "<style scoped>\n",
       "    .dataframe tbody tr th:only-of-type {\n",
       "        vertical-align: middle;\n",
       "    }\n",
       "\n",
       "    .dataframe tbody tr th {\n",
       "        vertical-align: top;\n",
       "    }\n",
       "\n",
       "    .dataframe thead th {\n",
       "        text-align: right;\n",
       "    }\n",
       "</style>\n",
       "<table border=\"1\" class=\"dataframe\">\n",
       "  <thead>\n",
       "    <tr style=\"text-align: right;\">\n",
       "      <th></th>\n",
       "      <th>Usuario X</th>\n",
       "      <th>ID</th>\n",
       "      <th>Text</th>\n",
       "      <th>Language</th>\n",
       "      <th>Type</th>\n",
       "      <th>Author Name</th>\n",
       "      <th>Author Username</th>\n",
       "      <th>View Count</th>\n",
       "      <th>Bookmark Count</th>\n",
       "      <th>Favorite Count</th>\n",
       "      <th>Retweet Count</th>\n",
       "      <th>Reply Count</th>\n",
       "      <th>Quote Count</th>\n",
       "      <th>Created At</th>\n",
       "      <th>Source</th>\n",
       "      <th>Hashtags</th>\n",
       "      <th>URLs</th>\n",
       "      <th>Media Type</th>\n",
       "      <th>Media URLs</th>\n",
       "    </tr>\n",
       "  </thead>\n",
       "  <tbody>\n",
       "    <tr>\n",
       "      <th>3307</th>\n",
       "      <td>JMilei</td>\n",
       "      <td>1941571022471430363</td>\n",
       "      <td>FENÓMENO MUNDIAL https://t.co/cc5SJcEndu</td>\n",
       "      <td>es</td>\n",
       "      <td>Retweet</td>\n",
       "      <td>Ave Miller</td>\n",
       "      <td>gorrasdeljavo</td>\n",
       "      <td>39217</td>\n",
       "      <td>53</td>\n",
       "      <td>202</td>\n",
       "      <td>6</td>\n",
       "      <td>1356</td>\n",
       "      <td>16</td>\n",
       "      <td>2025-07-05 15:52:59</td>\n",
       "      <td>TweetDeck Web App</td>\n",
       "      <td>NaN</td>\n",
       "      <td>NaN</td>\n",
       "      <td>photo</td>\n",
       "      <td>https://pbs.twimg.com/media/GvHYgKgWsAAeeuC.jpg</td>\n",
       "    </tr>\n",
       "    <tr>\n",
       "      <th>3308</th>\n",
       "      <td>JMilei</td>\n",
       "      <td>1941533892848283918</td>\n",
       "      <td>Javier Milei dará un discurso en la inauguraci...</td>\n",
       "      <td>es</td>\n",
       "      <td>Retweet</td>\n",
       "      <td>Marina</td>\n",
       "      <td>Marinabiagettii</td>\n",
       "      <td>47770</td>\n",
       "      <td>46</td>\n",
       "      <td>44</td>\n",
       "      <td>3</td>\n",
       "      <td>278</td>\n",
       "      <td>0</td>\n",
       "      <td>2025-07-05 13:25:26</td>\n",
       "      <td>Twitter for Android</td>\n",
       "      <td>NaN</td>\n",
       "      <td>NaN</td>\n",
       "      <td>photo</td>\n",
       "      <td>https://pbs.twimg.com/media/GvG2yUcXUAAkusP.jpg</td>\n",
       "    </tr>\n",
       "    <tr>\n",
       "      <th>3309</th>\n",
       "      <td>JMilei</td>\n",
       "      <td>1941568307213255061</td>\n",
       "      <td>AURA https://t.co/coWTQo2nwc</td>\n",
       "      <td>eu</td>\n",
       "      <td>Retweet</td>\n",
       "      <td>SheIby</td>\n",
       "      <td>TommyShelby_30</td>\n",
       "      <td>27647</td>\n",
       "      <td>17</td>\n",
       "      <td>112</td>\n",
       "      <td>4</td>\n",
       "      <td>903</td>\n",
       "      <td>7</td>\n",
       "      <td>2025-07-05 15:42:11</td>\n",
       "      <td>Twitter for iPhone</td>\n",
       "      <td>NaN</td>\n",
       "      <td>NaN</td>\n",
       "      <td>photo</td>\n",
       "      <td>https://pbs.twimg.com/media/GvHWFTkXsAAqjNl.jpg</td>\n",
       "    </tr>\n",
       "    <tr>\n",
       "      <th>3310</th>\n",
       "      <td>JMilei</td>\n",
       "      <td>1941555643237994589</td>\n",
       "      <td>El Presidente Javier Milei junto al Primer Min...</td>\n",
       "      <td>es</td>\n",
       "      <td>Retweet</td>\n",
       "      <td>Oficina del Presidente</td>\n",
       "      <td>OPRArgentina</td>\n",
       "      <td>196324</td>\n",
       "      <td>101</td>\n",
       "      <td>429</td>\n",
       "      <td>17</td>\n",
       "      <td>3485</td>\n",
       "      <td>30</td>\n",
       "      <td>2025-07-05 14:51:52</td>\n",
       "      <td>Twitter for Android</td>\n",
       "      <td>NaN</td>\n",
       "      <td>NaN</td>\n",
       "      <td>photo</td>\n",
       "      <td>https://pbs.twimg.com/media/GvHKkRJXsAA3MCG.jpg</td>\n",
       "    </tr>\n",
       "    <tr>\n",
       "      <th>3311</th>\n",
       "      <td>JMilei</td>\n",
       "      <td>1941558663933722848</td>\n",
       "      <td>FOTAAAAZAAAAA!!! 🇮🇳🇦🇷 \"Coincidimos en que el c...</td>\n",
       "      <td>es</td>\n",
       "      <td>Retweet</td>\n",
       "      <td>Marina</td>\n",
       "      <td>Marinabiagettii</td>\n",
       "      <td>34258</td>\n",
       "      <td>29</td>\n",
       "      <td>107</td>\n",
       "      <td>1</td>\n",
       "      <td>761</td>\n",
       "      <td>8</td>\n",
       "      <td>2025-07-05 15:03:52</td>\n",
       "      <td>Twitter for Android</td>\n",
       "      <td>NaN</td>\n",
       "      <td>NaN</td>\n",
       "      <td>photo</td>\n",
       "      <td>https://pbs.twimg.com/media/GvHNUJMWMAAFd85.jpg</td>\n",
       "    </tr>\n",
       "    <tr>\n",
       "      <th>3312</th>\n",
       "      <td>JMilei</td>\n",
       "      <td>1941520940799754296</td>\n",
       "      <td>🇦🇷🇮🇳  El presidente Javier Milei recibió en Ca...</td>\n",
       "      <td>es</td>\n",
       "      <td>Retweet</td>\n",
       "      <td>La Derecha Diario</td>\n",
       "      <td>laderechadiario</td>\n",
       "      <td>47473</td>\n",
       "      <td>62</td>\n",
       "      <td>181</td>\n",
       "      <td>23</td>\n",
       "      <td>1080</td>\n",
       "      <td>20</td>\n",
       "      <td>2025-07-05 12:33:58</td>\n",
       "      <td>Twitter for Android</td>\n",
       "      <td>NaN</td>\n",
       "      <td>NaN</td>\n",
       "      <td>video</td>\n",
       "      <td>https://video.twimg.com/amplify_video/19415001...</td>\n",
       "    </tr>\n",
       "    <tr>\n",
       "      <th>3313</th>\n",
       "      <td>JMilei</td>\n",
       "      <td>1941525477694505458</td>\n",
       "      <td>🇦🇷🤝🇮🇳Se viene tremendo acuerdo con la India! @...</td>\n",
       "      <td>es</td>\n",
       "      <td>Retweet</td>\n",
       "      <td>Agarra la Pala</td>\n",
       "      <td>agarra_pala</td>\n",
       "      <td>52514</td>\n",
       "      <td>88</td>\n",
       "      <td>203</td>\n",
       "      <td>10</td>\n",
       "      <td>1961</td>\n",
       "      <td>9</td>\n",
       "      <td>2025-07-05 12:52:00</td>\n",
       "      <td>Twitter Web App</td>\n",
       "      <td>NaN</td>\n",
       "      <td>NaN</td>\n",
       "      <td>photo</td>\n",
       "      <td>https://pbs.twimg.com/media/GvGuYQfW4AALF3s.jpg</td>\n",
       "    </tr>\n",
       "    <tr>\n",
       "      <th>3314</th>\n",
       "      <td>JMilei</td>\n",
       "      <td>1941332000205582752</td>\n",
       "      <td>JAVIER CUMPLE ✅️ 🇦🇷🔥 Qué lindo ver como se cum...</td>\n",
       "      <td>es</td>\n",
       "      <td>Retweet</td>\n",
       "      <td>Teresa Christina C.🦁💜🇦🇷</td>\n",
       "      <td>Tcristina77</td>\n",
       "      <td>28680</td>\n",
       "      <td>12</td>\n",
       "      <td>105</td>\n",
       "      <td>1</td>\n",
       "      <td>579</td>\n",
       "      <td>18</td>\n",
       "      <td>2025-07-05 00:03:11</td>\n",
       "      <td>Twitter for Android</td>\n",
       "      <td>NaN</td>\n",
       "      <td>NaN</td>\n",
       "      <td>video</td>\n",
       "      <td>https://video.twimg.com/ext_tw_video/194133197...</td>\n",
       "    </tr>\n",
       "    <tr>\n",
       "      <th>3315</th>\n",
       "      <td>JMilei</td>\n",
       "      <td>1941524058048430524</td>\n",
       "      <td>El abrazo de Javier Milei y el Primer Ministro...</td>\n",
       "      <td>es</td>\n",
       "      <td>Retweet</td>\n",
       "      <td>Marina</td>\n",
       "      <td>Marinabiagettii</td>\n",
       "      <td>28364</td>\n",
       "      <td>11</td>\n",
       "      <td>65</td>\n",
       "      <td>1</td>\n",
       "      <td>504</td>\n",
       "      <td>3</td>\n",
       "      <td>2025-07-05 12:46:21</td>\n",
       "      <td>Twitter for Android</td>\n",
       "      <td>NaN</td>\n",
       "      <td>NaN</td>\n",
       "      <td>photo</td>\n",
       "      <td>https://pbs.twimg.com/media/GvGt150XMAAfFws.jpg</td>\n",
       "    </tr>\n",
       "    <tr>\n",
       "      <th>3316</th>\n",
       "      <td>JMilei</td>\n",
       "      <td>1941555939162865911</td>\n",
       "      <td>Y mientras tanto, en la mayoría de los medios ...</td>\n",
       "      <td>es</td>\n",
       "      <td>Retweet</td>\n",
       "      <td>𝙏𝙧𝙤𝙣𝙘𝙤</td>\n",
       "      <td>tronco</td>\n",
       "      <td>64183</td>\n",
       "      <td>111</td>\n",
       "      <td>339</td>\n",
       "      <td>3</td>\n",
       "      <td>2098</td>\n",
       "      <td>7</td>\n",
       "      <td>2025-07-05 14:53:02</td>\n",
       "      <td>Twitter for iPhone</td>\n",
       "      <td>NaN</td>\n",
       "      <td>NaN</td>\n",
       "      <td>NaN</td>\n",
       "      <td>NaN</td>\n",
       "    </tr>\n",
       "  </tbody>\n",
       "</table>\n",
       "</div>"
      ],
      "text/plain": [
       "     Usuario X                   ID  \\\n",
       "3307    JMilei  1941571022471430363   \n",
       "3308    JMilei  1941533892848283918   \n",
       "3309    JMilei  1941568307213255061   \n",
       "3310    JMilei  1941555643237994589   \n",
       "3311    JMilei  1941558663933722848   \n",
       "3312    JMilei  1941520940799754296   \n",
       "3313    JMilei  1941525477694505458   \n",
       "3314    JMilei  1941332000205582752   \n",
       "3315    JMilei  1941524058048430524   \n",
       "3316    JMilei  1941555939162865911   \n",
       "\n",
       "                                                   Text Language     Type  \\\n",
       "3307           FENÓMENO MUNDIAL https://t.co/cc5SJcEndu       es  Retweet   \n",
       "3308  Javier Milei dará un discurso en la inauguraci...       es  Retweet   \n",
       "3309                       AURA https://t.co/coWTQo2nwc       eu  Retweet   \n",
       "3310  El Presidente Javier Milei junto al Primer Min...       es  Retweet   \n",
       "3311  FOTAAAAZAAAAA!!! 🇮🇳🇦🇷 \"Coincidimos en que el c...       es  Retweet   \n",
       "3312  🇦🇷🇮🇳  El presidente Javier Milei recibió en Ca...       es  Retweet   \n",
       "3313  🇦🇷🤝🇮🇳Se viene tremendo acuerdo con la India! @...       es  Retweet   \n",
       "3314  JAVIER CUMPLE ✅️ 🇦🇷🔥 Qué lindo ver como se cum...       es  Retweet   \n",
       "3315  El abrazo de Javier Milei y el Primer Ministro...       es  Retweet   \n",
       "3316  Y mientras tanto, en la mayoría de los medios ...       es  Retweet   \n",
       "\n",
       "                  Author Name  Author Username  View Count  Bookmark Count  \\\n",
       "3307               Ave Miller    gorrasdeljavo       39217              53   \n",
       "3308                   Marina  Marinabiagettii       47770              46   \n",
       "3309                   SheIby   TommyShelby_30       27647              17   \n",
       "3310   Oficina del Presidente     OPRArgentina      196324             101   \n",
       "3311                   Marina  Marinabiagettii       34258              29   \n",
       "3312        La Derecha Diario  laderechadiario       47473              62   \n",
       "3313           Agarra la Pala      agarra_pala       52514              88   \n",
       "3314  Teresa Christina C.🦁💜🇦🇷      Tcristina77       28680              12   \n",
       "3315                   Marina  Marinabiagettii       28364              11   \n",
       "3316                   𝙏𝙧𝙤𝙣𝙘𝙤           tronco       64183             111   \n",
       "\n",
       "      Favorite Count  Retweet Count  Reply Count  Quote Count  \\\n",
       "3307             202              6         1356           16   \n",
       "3308              44              3          278            0   \n",
       "3309             112              4          903            7   \n",
       "3310             429             17         3485           30   \n",
       "3311             107              1          761            8   \n",
       "3312             181             23         1080           20   \n",
       "3313             203             10         1961            9   \n",
       "3314             105              1          579           18   \n",
       "3315              65              1          504            3   \n",
       "3316             339              3         2098            7   \n",
       "\n",
       "              Created At               Source Hashtags URLs Media Type  \\\n",
       "3307 2025-07-05 15:52:59    TweetDeck Web App      NaN  NaN      photo   \n",
       "3308 2025-07-05 13:25:26  Twitter for Android      NaN  NaN      photo   \n",
       "3309 2025-07-05 15:42:11   Twitter for iPhone      NaN  NaN      photo   \n",
       "3310 2025-07-05 14:51:52  Twitter for Android      NaN  NaN      photo   \n",
       "3311 2025-07-05 15:03:52  Twitter for Android      NaN  NaN      photo   \n",
       "3312 2025-07-05 12:33:58  Twitter for Android      NaN  NaN      video   \n",
       "3313 2025-07-05 12:52:00      Twitter Web App      NaN  NaN      photo   \n",
       "3314 2025-07-05 00:03:11  Twitter for Android      NaN  NaN      video   \n",
       "3315 2025-07-05 12:46:21  Twitter for Android      NaN  NaN      photo   \n",
       "3316 2025-07-05 14:53:02   Twitter for iPhone      NaN  NaN        NaN   \n",
       "\n",
       "                                             Media URLs  \n",
       "3307    https://pbs.twimg.com/media/GvHYgKgWsAAeeuC.jpg  \n",
       "3308    https://pbs.twimg.com/media/GvG2yUcXUAAkusP.jpg  \n",
       "3309    https://pbs.twimg.com/media/GvHWFTkXsAAqjNl.jpg  \n",
       "3310    https://pbs.twimg.com/media/GvHKkRJXsAA3MCG.jpg  \n",
       "3311    https://pbs.twimg.com/media/GvHNUJMWMAAFd85.jpg  \n",
       "3312  https://video.twimg.com/amplify_video/19415001...  \n",
       "3313    https://pbs.twimg.com/media/GvGuYQfW4AALF3s.jpg  \n",
       "3314  https://video.twimg.com/ext_tw_video/194133197...  \n",
       "3315    https://pbs.twimg.com/media/GvGt150XMAAfFws.jpg  \n",
       "3316                                                NaN  "
      ]
     },
     "execution_count": 28,
     "metadata": {},
     "output_type": "execute_result"
    }
   ],
   "source": [
    "print(\"🗂️ ÚLTIMOS 10 REGISTROS\")\n",
    "print(\"========================\")\n",
    "df.tail(10)"
   ]
  },
  {
   "cell_type": "markdown",
   "metadata": {},
   "source": [
    "💡 Si el contenido de la celda es igual a 1 ➡️ el síntoma formo parte del diagnóstico.<br>\n",
    "💡 Si el contenido de la celda es igual a 0 ➡️ el síntoma NO formo parte del diagnóstico.<br>"
   ]
  },
  {
   "cell_type": "markdown",
   "metadata": {},
   "source": [
    "🗒️ ¿Cuántas historias clínicas fueron relevadas por cada tipo de enfermedad diagnosticada?"
   ]
  },
  {
   "cell_type": "code",
   "execution_count": null,
   "metadata": {},
   "outputs": [],
   "source": [
    "frecuencia_valores = df['prognosis'].value_counts()\n",
    "print(f\"\\n✅ Frecuencia de valores en la columna: {'prognosis'}\")\n",
    "print(\"-------------------------------------------------------\")\n",
    "\n",
    "n=1\n",
    "for enfermedad,frecuencia in frecuencia_valores.items():\n",
    "    print(f\"{n} {enfermedad} -> {frecuencia}\")\n",
    "    n=n+1"
   ]
  },
  {
   "cell_type": "markdown",
   "metadata": {},
   "source": [
    "💡 Se observa que en total el dataset contiene 41 enfermedades posibles de diagnóstico de las cuales se relevaron equitativamente 120 historias clínicas.<br>"
   ]
  },
  {
   "cell_type": "markdown",
   "metadata": {},
   "source": [
    "🗒️ ¿Cuáles son los síntomas que más se repiten?"
   ]
  },
  {
   "cell_type": "code",
   "execution_count": null,
   "metadata": {},
   "outputs": [],
   "source": [
    "# Identificamos las columnas pertenecientes a los síntomas\n",
    "columnas_binarias = df.columns[:-1]  # Filtro la última columna, la cual corresponde al síntoma\n",
    "\n",
    "# Calculamos la frecuencia del valor 1 (SI) para cada síntoma\n",
    "frecuencia_unos = df[columnas_binarias].sum()\n",
    "\n",
    "# Calculamos el número total de filas (para obtener la proporción)\n",
    "total_filas = len(df)\n",
    "\n",
    "# Calculamos el porcentaje de 1s (SI)\n",
    "porcentaje_unos = (frecuencia_unos / total_filas) * 100\n",
    "\n",
    "\n",
    "print(\"✅ Total de veces que el síntoma forma parte del dignóstico\")\n",
    "print(\"\")\n",
    "\n",
    "for columna, frecuencia in frecuencia_unos.items():\n",
    "    porcentaje = porcentaje_unos[columna]\n",
    "    print(f\"El {porcentaje:.2f}% de las veces el síntoma << {columna} >> formo parte del diagnóstico\")\n"
   ]
  },
  {
   "cell_type": "markdown",
   "metadata": {},
   "source": [
    "💡 Hay 7 síntomas con alto grado de participación en los diagnósticos:<br>\n",
    "- fatigue esta presente en el 39,27% de los diagnósticos.<br>\n",
    "- vomiting esta presente en el 38,90% de los diagnósticos.<br>\n",
    "- high_fever esta presente en el 27,68% de los diagnósticos.<br>\n",
    "- loss_of_appetite esta presente en el 23,41% de los diagnósticos.<br>\n",
    "- nausea esta presente en el 23,29% de los diagnósticos.<br>\n",
    "- headache esta presente en el 23,05% de los diagnósticos.<br>\n",
    "- abdominal_pain esta presente en el 20,98% de los diagnósticos.<br>\n",
    "<br>\n",
    "\n",
    "⚠️ Porcentajes altos de participación de un síntoma provoca que éste no sea determinante en el diagnostico, ej: fatigue y vomiting está presente en casi el 40% de las historias clínicas. Si el profesional de la salud no tiene en cuenta el resto de los síntomas puede cometer errores de diagnóstico."
   ]
  },
  {
   "cell_type": "markdown",
   "metadata": {},
   "source": [
    "🗒️ Matriz de correlación"
   ]
  },
  {
   "cell_type": "code",
   "execution_count": null,
   "metadata": {},
   "outputs": [],
   "source": [
    "# Separo las características (features) de la variable objetivo\n",
    "X = df.drop('prognosis', axis=1)\n",
    "\n",
    "# Calculo la matriz de correlación entre todas las variables\n",
    "matriz_correlacion = X.corr()\n",
    "\n",
    "# Muestro la matriz de correlación con un mapa de calor\n",
    "plt.figure(figsize=(16, 12))  # Tamaño del gráfico\n",
    "sns.heatmap(matriz_correlacion, cmap='coolwarm', linewidths=0.5)\n",
    "plt.title(\"🔍 Matriz de Correlación entre Síntomas\", fontsize=16)\n",
    "plt.tight_layout()\n",
    "plt.show()"
   ]
  },
  {
   "cell_type": "markdown",
   "metadata": {},
   "source": [
    "🗒️ Dado que desde la gráfica se dificulta observar cuáles son las variables con alto índice de correlación se procede a su listado."
   ]
  },
  {
   "cell_type": "code",
   "execution_count": null,
   "metadata": {},
   "outputs": [],
   "source": [
    "# Busco y almaceno todos los pares con correlación > 0.9 (positiva o negativa)\n",
    "valores_correlacionados_altos = []\n",
    "for i in range(len(matriz_correlacion.columns)):\n",
    "    for j in range(i + 1, len(matriz_correlacion.columns)):\n",
    "        valor = matriz_correlacion.iloc[i, j]\n",
    "        if abs(valor) > 0.9:\n",
    "            valores_correlacionados_altos.append((matriz_correlacion.index[i], matriz_correlacion.columns[j], valor))\n",
    "\n",
    "# Ordeno los pares por el valor absoluto de su correlación (de mayor a menor)\n",
    "valores_correlacionados_altos_ordenado = sorted(valores_correlacionados_altos, key=lambda x: abs(x[2]), reverse=True)\n",
    "\n",
    "# Muestro los pares encontrados\n",
    "print(\"🔗 Pares de síntomas con correlación > 0.9:\\n\")\n",
    "for var1, var2, valor in valores_correlacionados_altos_ordenado:\n",
    "    print(f\"{var1} ↔ {var2}: correlación = {valor:.2f}\")"
   ]
  },
  {
   "cell_type": "markdown",
   "metadata": {},
   "source": [
    "Se observa gran cantidad de variables con alta correlación, por el momento, y debido a la cantidad de síntomas no se toman decisiones para reducir dimensionalidad."
   ]
  },
  {
   "cell_type": "markdown",
   "metadata": {},
   "source": [
    "##### ![6) Data Wrangling / Data Munging:](https://github.com/chetincho/ds_Prediccion_de_enfermedades/blob/main/img/Data%20Wrangling%20Munging.jpg?raw=true)"
   ]
  },
  {
   "cell_type": "markdown",
   "metadata": {},
   "source": [
    "🗒️ Codificación de variables categóricas.<br>\n",
    "Se confirma que no hay variables categóricas, además de la variable target."
   ]
  },
  {
   "cell_type": "markdown",
   "metadata": {},
   "source": [
    "🗒️ Normalización o escalado.<br>\n",
    "No es necesario aplicar normalización o escalado. Todas las variables ya están en la misma escala (0 o 1). Todas las variables (síntomas) son binarias, es decir, solo toman valores 0 o 1.<br>"
   ]
  },
  {
   "cell_type": "markdown",
   "metadata": {},
   "source": [
    "🗒️ Codificamos columna objetivo (prognosis) usando LabelEncoder. Esto lo hacemos para que el modelo pueda procesar dicha columna.<br>\n",
    "Este método convierte cada clase en un número entero único.<br>\n",
    "<br>\n",
    "Se crea una nueva columna prognosis_encoded que contiene valores numéricos. Cada número representa una enfermedad distinta.<br>"
   ]
  },
  {
   "cell_type": "code",
   "execution_count": null,
   "metadata": {},
   "outputs": [],
   "source": [
    "# Creamos una instancia del codificador\n",
    "label_encoder = LabelEncoder()\n",
    "\n",
    "# Aplicamos el codificador sobre la columna \"prognosis\"\n",
    "df['prognosis_encoded'] = label_encoder.fit_transform(df['prognosis'])\n",
    "\n",
    "# Mostramos la codificación\n",
    "print(\"🔍 Mapeo de enfermedades (prognosis):\")\n",
    "for i, class_label in enumerate(label_encoder.classes_):\n",
    "    print(f\"{i} → {class_label}\")"
   ]
  },
  {
   "cell_type": "code",
   "execution_count": null,
   "metadata": {},
   "outputs": [],
   "source": [
    "df.head(30)"
   ]
  },
  {
   "cell_type": "markdown",
   "metadata": {},
   "source": [
    "##### ![Primeras conclusiones:](https://github.com/chetincho/ds_Prediccion_de_enfermedades/blob/main/img/Primeras%20conclusiones.jpg?raw=true)"
   ]
  },
  {
   "cell_type": "markdown",
   "metadata": {},
   "source": [
    "- Todo indica que se trata de un problema de clasificación multiclase con 41 enfermedades como clases posibles. <br>\n",
    "- Nuestra variable objetivo será \"prognosis\". <br>\n",
    "- Se confirma que no hay columnas categóricas (además de la target). <br>"
   ]
  },
  {
   "cell_type": "markdown",
   "metadata": {},
   "source": [
    "##### ![Selección y entrenamiento del modelo:](https://github.com/chetincho/ds_Prediccion_de_enfermedades/blob/main/img/Selecci%C3%B3n%20y%20entrenamiento%20del%20modelo%20fundamentos.jpg?raw=true)"
   ]
  },
  {
   "cell_type": "markdown",
   "metadata": {},
   "source": [
    "Procedemos a separar en X (features) e Y (target):<br>\n",
    "- X: todas las columnas de síntomas (features)<br>\n",
    "- y: la columna codificada prognosis_encoded (target)<br>"
   ]
  },
  {
   "cell_type": "code",
   "execution_count": null,
   "metadata": {},
   "outputs": [],
   "source": [
    "# -----------------------------------------------\n",
    "# 🎯 SEPARACIÓN DE FEATURES (X) Y TARGET (y)\n",
    "# -----------------------------------------------\n",
    "\n",
    "# Paso 1: Definir las variables independientes (X)\n",
    "# Excluimos la columna objetivo codificada y cualquier otra que no queramos usar como feature\n",
    "X = df.drop(columns=['prognosis', 'prognosis_encoded'])  # usamos solo los síntomas\n",
    "\n",
    "# Paso 2: Definir la variable dependiente (y)\n",
    "# Usamos la versión codificada de la columna objetivo\n",
    "y = df['prognosis_encoded']\n",
    "\n",
    "# Paso 3: Verificar dimensiones\n",
    "print(f\"📐 Dimensión de X (features): {X.shape}\")\n",
    "print(f\"🎯 Dimensión de y (target): {y.shape}\")\n",
    "\n",
    "# X: contiene todos los síntomas (sin la columna de diagnóstico).\n",
    "# y: contiene el diagnóstico codificado numéricamente (prognosis_encoded).\n",
    "# Imprime las dimensiones de ambos para confirmar que todo está en orden."
   ]
  },
  {
   "cell_type": "markdown",
   "metadata": {},
   "source": [
    "Luego, procedemos a dividir el dataset en #conjunto_de_entrenamiento y #conjunto_de_pruebas.<br>"
   ]
  },
  {
   "cell_type": "code",
   "execution_count": null,
   "metadata": {},
   "outputs": [],
   "source": [
    "# Paso 2: Dividir los datos en entrenamiento y prueba\n",
    "# Usamos 80% para entrenamiento y 20% para prueba\n",
    "X_train, X_test, y_train, y_test = train_test_split(\n",
    "    X, y,                  # Features y target\n",
    "    test_size=0.2,         # 20% para test\n",
    "    random_state=42,       # Semilla para reproducibilidad\n",
    "    stratify=y             # Mantiene la proporción de clases en y\n",
    ")\n",
    "\n",
    "# Paso 3: Mostrar el tamaño de cada subconjunto\n",
    "print(f\"🔧 X_train: {X_train.shape}\")\n",
    "print(f\"🧪 X_test:  {X_test.shape}\")\n",
    "print(f\"🎯 y_train: {y_train.shape}\")\n",
    "print(f\"🎯 y_test:  {y_test.shape}\")"
   ]
  },
  {
   "cell_type": "markdown",
   "metadata": {},
   "source": [
    "Procedemos a evaluar distintos Modelos de Machine Learning <br>"
   ]
  },
  {
   "cell_type": "markdown",
   "metadata": {},
   "source": [
    "Comentarios: Tipo de problema de Clasificación multiclase (porque queremos predecir una entre varias clases posibles). Esto implica que vamos a construir modelos de clasificación que puedan identificar a cuál de esas 41 enfermedades pertenece cada muestra, en base a los síntomas.<br>"
   ]
  },
  {
   "cell_type": "markdown",
   "metadata": {},
   "source": [
    "🤖 1. Random Forest Classifier<br>"
   ]
  },
  {
   "cell_type": "code",
   "execution_count": null,
   "metadata": {},
   "outputs": [],
   "source": [
    "# -----------------------------------------------\n",
    "# 🌲 RANDOM FOREST CLASSIFIER\n",
    "# -----------------------------------------------\n",
    "\n",
    "# Paso 1:Creamos una instancia del modelo\n",
    "# - n_estimators: número de árboles en el bosque\n",
    "# - random_state: semilla para reproducibilidad\n",
    "rf_model = RandomForestClassifier(n_estimators=100, random_state=20)\n",
    "\n",
    "# Paso 2: Entrenamos el modelo con los datos de entrenamiento\n",
    "rf_model.fit(X_train, y_train)\n",
    "\n",
    "# Paso 3: Hacemos predicciones sobre el conjunto de prueba\n",
    "rf_preds = rf_model.predict(X_test)\n",
    "\n",
    "# Paso 4: Evaluamos el rendimiento del modelo\n",
    "from sklearn.metrics import accuracy_score, classification_report, confusion_matrix\n",
    "\n",
    "print(\"🎯 [Random Forest] Accuracy:\", accuracy_score(y_test, rf_preds))\n",
    "print(\"📋 [Random Forest] Classification Report:\")\n",
    "print(classification_report(y_test, rf_preds, target_names=label_encoder.classes_))"
   ]
  },
  {
   "cell_type": "markdown",
   "metadata": {},
   "source": [
    "🗒️ Conclusión Random Forest Classifier:\n",
    "- Habiendo logrado una accuracy de 1.0 (o 100%) esto nos indica que el modelo predijo correctamente TODAS las muestras del conjunto de prueba.\n",
    "- El modelo clasificó correctamente todas las enfermedades del test.\n",
    "- No hubo falsos positivos ni falsos negativos.\n",
    "- Todas las clases tienen el mismo número de muestras (24)"
   ]
  },
  {
   "cell_type": "markdown",
   "metadata": {},
   "source": [
    "🤖 2. K-Nearest Neighbors (KNN)<br>"
   ]
  },
  {
   "cell_type": "code",
   "execution_count": null,
   "metadata": {},
   "outputs": [],
   "source": [
    "# -----------------------------------------------\n",
    "# 👥 K-NEAREST NEIGHBORS (KNN)\n",
    "# -----------------------------------------------\n",
    "\n",
    "# Paso 1: Importamos el modelo desde sklearn\n",
    "from sklearn.neighbors import KNeighborsClassifier\n",
    "\n",
    "# Paso 2: Crear una instancia del modelo\n",
    "# n_neighbors: número de vecinos a considerar\n",
    "knn_model = KNeighborsClassifier(n_neighbors=5)\n",
    "\n",
    "# Paso 3: Entrenamos el modelo con los datos de entrenamiento\n",
    "knn_model.fit(X_train, y_train)\n",
    "\n",
    "# Paso 4: Hacemos las predicciones sobre el conjunto de prueba\n",
    "knn_preds = knn_model.predict(X_test)\n",
    "\n",
    "# Paso 5: Evaluamos el rendimiento del modelo\n",
    "print(\"🎯 [KNN] Accuracy:\", accuracy_score(y_test, knn_preds))\n",
    "print(\"📋 [KNN] Classification Report:\")\n",
    "print(classification_report(y_test, knn_preds, target_names=label_encoder.classes_))"
   ]
  },
  {
   "cell_type": "markdown",
   "metadata": {},
   "source": [
    "🗒️ Conclusión K-Nearest Neighbors (KNN):\n",
    "- Al igual que con el modelo Random Forest Classifier se alcanza una accuracy de 1.0 (o 100%)"
   ]
  },
  {
   "cell_type": "markdown",
   "metadata": {},
   "source": [
    "🤖 3. Support Vector Machine (SVM)<br>"
   ]
  },
  {
   "cell_type": "code",
   "execution_count": null,
   "metadata": {},
   "outputs": [],
   "source": [
    "# -----------------------------------------------\n",
    "# 💠 SUPPORT VECTOR MACHINE (SVM)\n",
    "# -----------------------------------------------\n",
    "\n",
    "# Paso 1: Importamos el modelo desde sklearn\n",
    "from sklearn.svm import SVC\n",
    "\n",
    "# Paso 2: Creamos una instancia del modelo\n",
    "# kernel='linear': usaremos un kernel lineal para clasificación\n",
    "svm_model = SVC(kernel='linear', probability=True)\n",
    "\n",
    "# Paso 3: Entrenamos el modelo con los datos de entrenamiento\n",
    "svm_model.fit(X_train, y_train)\n",
    "\n",
    "# Paso 4: Hacemos predicciones sobre el conjunto de prueba\n",
    "svm_preds = svm_model.predict(X_test)\n",
    "\n",
    "# Paso 5: Evaluamos el rendimiento del modelo\n",
    "print(\"🎯 [SVM] Accuracy:\", accuracy_score(y_test, svm_preds))\n",
    "print(\"📋 [SVM] Classification Report:\")\n",
    "print(classification_report(y_test, svm_preds, target_names=label_encoder.classes_))"
   ]
  },
  {
   "cell_type": "markdown",
   "metadata": {},
   "source": [
    "##### ![Conclusiones finales:](https://github.com/chetincho/ds_Prediccion_de_enfermedades/blob/main/img/Conclusiones%20finales.jpg?raw=true)"
   ]
  },
  {
   "cell_type": "markdown",
   "metadata": {},
   "source": [
    "Los 3 modelos mostraron un 100% de precisión, lo cual indica que el problema está muy bien definido y probablemente los síntomas determinan claramente la enfermedad.<br>\n",
    "- Cada combinación de síntomas apunta a un diagnóstico único.<br>\n",
    "- No hay ambigüedad o ruido en los datos.<br>\n"
   ]
  },
  {
   "cell_type": "markdown",
   "metadata": {},
   "source": [
    "🧠 Interpretación<br>\n",
    "Los tres modelos clasificaron correctamente todos los casos del set de prueba.<br>\n",
    "Esto indica que el problema es altamente separable y que los síntomas determinan muy bien el diagnóstico.<br>\n",
    "Es posible que el dataset tenga patrones muy claros o incluso síntomas únicos por enfermedad.<br>"
   ]
  },
  {
   "cell_type": "markdown",
   "metadata": {},
   "source": [
    "<br>\n",
    "<br>\n",
    "<br>\n",
    "<br>\n",
    "<br>\n",
    "<br>"
   ]
  },
  {
   "cell_type": "markdown",
   "metadata": {},
   "source": []
  }
 ],
 "metadata": {
  "kernelspec": {
   "display_name": "Python 3",
   "language": "python",
   "name": "python3"
  },
  "language_info": {
   "codemirror_mode": {
    "name": "ipython",
    "version": 3
   },
   "file_extension": ".py",
   "mimetype": "text/x-python",
   "name": "python",
   "nbconvert_exporter": "python",
   "pygments_lexer": "ipython3",
   "version": "3.11.5"
  }
 },
 "nbformat": 4,
 "nbformat_minor": 2
}
